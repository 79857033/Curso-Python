{
  "cells": [
    {
      "cell_type": "markdown",
      "metadata": {
        "id": "j-_2ZvUGgynH"
      },
      "source": [
        "#***INICIANDO CON PYTHON***"
      ]
    },
    {
      "cell_type": "code",
      "execution_count": null,
      "metadata": {
        "colab": {
          "base_uri": "https://localhost:8080/"
        },
        "id": "_oBZtUlGgt0G",
        "outputId": "25f1f0fb-202c-477b-bc31-80ff7f6bfcce"
      },
      "outputs": [
        {
          "name": "stdout",
          "output_type": "stream",
          "text": [
            "Hola mundo\n"
          ]
        }
      ],
      "source": [
        "print(\"Hola mundo\")\n",
        "\n"
      ]
    },
    {
      "cell_type": "code",
      "execution_count": null,
      "metadata": {
        "colab": {
          "base_uri": "https://localhost:8080/"
        },
        "id": "k5jASkMkk8Kb",
        "outputId": "66b117eb-cc6c-4bfc-f319-0a01a109473b"
      },
      "outputs": [
        {
          "name": "stdout",
          "output_type": "stream",
          "text": [
            "Carlos Diaz\n"
          ]
        }
      ],
      "source": [
        "nombre_P = \"Carlos Diaz\"\n",
        "print(nombre_P)"
      ]
    },
    {
      "cell_type": "code",
      "execution_count": null,
      "metadata": {
        "colab": {
          "base_uri": "https://localhost:8080/"
        },
        "id": "oP6HV1O-lRKH",
        "outputId": "35ab101b-0d33-4d0c-effe-2457f8d97f05"
      },
      "outputs": [
        {
          "name": "stdout",
          "output_type": "stream",
          "text": [
            "48\n",
            "Diana\n"
          ]
        }
      ],
      "source": [
        "edad = 48\n",
        "print(edad)\n",
        "edad = \"Diana\"\n",
        "print(edad)"
      ]
    },
    {
      "cell_type": "code",
      "execution_count": null,
      "metadata": {
        "colab": {
          "base_uri": "https://localhost:8080/"
        },
        "id": "UlJqCthhmBwA",
        "outputId": "0b79d503-fe7b-472e-d9aa-73129d853636"
      },
      "outputs": [
        {
          "name": "stdout",
          "output_type": "stream",
          "text": [
            "True\n"
          ]
        }
      ],
      "source": [
        "val = True\n",
        "print(val)"
      ]
    },
    {
      "cell_type": "code",
      "execution_count": null,
      "metadata": {
        "colab": {
          "base_uri": "https://localhost:8080/"
        },
        "id": "n3bGSDfkmGDj",
        "outputId": "7f3b76b0-eee6-4b92-aaf0-efbdea1748ea"
      },
      "outputs": [
        {
          "name": "stdout",
          "output_type": "stream",
          "text": [
            "Carlos \n",
            "Perez 45 1.8\n"
          ]
        }
      ],
      "source": [
        "nombre = 'Carlos'\n",
        "apellido = \"Perez\"\n",
        "edad = 45\n",
        "estatura = 1.80\n",
        "print(nombre + \" \\n\" + apellido \"\" edad , estatura) "
      ]
    },
    {
      "cell_type": "markdown",
      "metadata": {
        "id": "BaQYv_aEneq_"
      },
      "source": [
        "# # COMENTARIOS"
      ]
    },
    {
      "cell_type": "markdown",
      "metadata": {
        "id": "a5vZudEAng6K"
      },
      "source": [
        "1. Documentar\n",
        "2. Pruebas"
      ]
    },
    {
      "cell_type": "code",
      "execution_count": null,
      "metadata": {
        "colab": {
          "base_uri": "https://localhost:8080/"
        },
        "id": "lfdaj65WnmYH",
        "outputId": "5b3ae3e3-ae7d-4472-fbd0-5a112365f45b"
      },
      "outputs": [
        {
          "name": "stdout",
          "output_type": "stream",
          "text": [
            "Carlos Diaz\n"
          ]
        }
      ],
      "source": [
        "# variable que captura el teléfono de una persona\n",
        "#telefono = 311215121\n",
        "# variable nombre de persona\n",
        "nombre = \"Carlos Diaz\"\n",
        "# visualiza por pantalla el valor de la variable telefono\n",
        "#print(telefono)\n",
        "# Visualza el valor de nombre\n",
        "print(nombre)"
      ]
    },
    {
      "cell_type": "code",
      "execution_count": null,
      "metadata": {
        "colab": {
          "base_uri": "https://localhost:8080/"
        },
        "id": "ihyhbIY7obeA",
        "outputId": "6d4afe77-4e8c-4664-c994-3819128a7d81"
      },
      "outputs": [
        {
          "name": "stdout",
          "output_type": "stream",
          "text": [
            "Digite su nombre:Roger\n",
            "Roger\n"
          ]
        }
      ],
      "source": [
        "nombrePer = input(\"Digite su nombre:\")\n",
        "print(nombrePer)"
      ]
    },
    {
      "cell_type": "markdown",
      "metadata": {
        "id": "lCo0ZUycpThK"
      },
      "source": [
        "**Taller 1**\n",
        "\n",
        "No de Identificación, Nombres, Apellidos, Dirección, Teléfono, Edad, Estado Civil, Número de hijos, Estatura en centímetros, fecha de contratación (Día/mes/año), Sueldo básico, Días Laborados."
      ]
    }
  ],
  "metadata": {
    "colab": {
      "provenance": []
    },
    "kernelspec": {
      "display_name": "Python 3",
      "name": "python3"
    },
    "language_info": {
      "name": "python"
    }
  },
  "nbformat": 4,
  "nbformat_minor": 0
}
