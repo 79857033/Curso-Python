{
  "nbformat": 4,
  "nbformat_minor": 0,
  "metadata": {
    "colab": {
      "provenance": []
    },
    "kernelspec": {
      "name": "python3",
      "display_name": "Python 3"
    },
    "language_info": {
      "name": "python"
    }
  },
  "cells": [
    {
      "cell_type": "code",
      "execution_count": 3,
      "metadata": {
        "colab": {
          "base_uri": "https://localhost:8080/"
        },
        "id": "i-fc_1Eo9eaE",
        "outputId": "28c1b9df-f045-47f2-c76f-c47eec21d5f0"
      },
      "outputs": [
        {
          "output_type": "stream",
          "name": "stdout",
          "text": [
            "Hola Mundo Python\n"
          ]
        }
      ],
      "source": [
        "print (\"Hola Mundo Python\")"
      ]
    }
  ]
}