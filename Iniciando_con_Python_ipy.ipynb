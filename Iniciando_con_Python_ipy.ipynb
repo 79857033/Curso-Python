{
  "nbformat": 4,
  "nbformat_minor": 0,
  "metadata": {
    "colab": {
      "provenance": [],
      "toc_visible": true
    },
    "kernelspec": {
      "name": "python3",
      "display_name": "Python 3"
    },
    "language_info": {
      "name": "python"
    }
  },
  "cells": [
    {
      "cell_type": "code",
      "source": [
        "print(\"Hola Mundo\")"
      ],
      "metadata": {
        "colab": {
          "base_uri": "https://localhost:8080/"
        },
        "id": "vehYTdI2U4wr",
        "outputId": "ae070730-85ee-446f-ae0d-aa289514cdfb"
      },
      "execution_count": null,
      "outputs": [
        {
          "output_type": "stream",
          "name": "stdout",
          "text": [
            "Hola Mundo\n"
          ]
        }
      ]
    },
    {
      "cell_type": "code",
      "source": [
        "nombre_P = \"Diana Avila\"\n",
        "print(nombre_P)"
      ],
      "metadata": {
        "colab": {
          "base_uri": "https://localhost:8080/"
        },
        "id": "qY7zvn_ZZSFi",
        "outputId": "666c302e-2bc7-41cd-9572-b7a22f61566d"
      },
      "execution_count": null,
      "outputs": [
        {
          "output_type": "stream",
          "name": "stdout",
          "text": [
            "Diana Avila\n"
          ]
        }
      ]
    },
    {
      "cell_type": "code",
      "source": [
        "edad = 48\n",
        "print(edad)\n",
        "edad = \"Evelyn\"\n",
        "print(edad)"
      ],
      "metadata": {
        "colab": {
          "base_uri": "https://localhost:8080/"
        },
        "id": "aaamKXQcZ8Kr",
        "outputId": "65b71a38-2805-4d0d-b004-cd5805a68ddd"
      },
      "execution_count": null,
      "outputs": [
        {
          "output_type": "stream",
          "name": "stdout",
          "text": [
            "48\n",
            "Evelyn\n"
          ]
        }
      ]
    },
    {
      "cell_type": "code",
      "source": [
        "nombre = \"Paula\"\n",
        "apellido =\"Avendano\"\n",
        "edad = 14\n",
        "estatura = 1.50\n",
        "print(nombre + \"\\n\" + apellido, \"\\n\", edad , \"\\n\" , estatura)"
      ],
      "metadata": {
        "colab": {
          "base_uri": "https://localhost:8080/"
        },
        "id": "mEjetvTXbEUs",
        "outputId": "b949cbb0-5436-402d-ceeb-bfe66f02a2e7"
      },
      "execution_count": null,
      "outputs": [
        {
          "output_type": "stream",
          "name": "stdout",
          "text": [
            "Paula\n",
            "Avendano \n",
            " 14 \n",
            " 1.5\n"
          ]
        }
      ]
    },
    {
      "cell_type": "code",
      "source": [
        "val = True\n",
        "print(val)"
      ],
      "metadata": {
        "colab": {
          "base_uri": "https://localhost:8080/"
        },
        "id": "wMEVmYflg4B_",
        "outputId": "9e60c6eb-99a6-4d26-c9ca-646bb264c0c5"
      },
      "execution_count": null,
      "outputs": [
        {
          "output_type": "stream",
          "name": "stdout",
          "text": [
            "True\n"
          ]
        }
      ]
    },
    {
      "cell_type": "code",
      "source": [
        "nombre = \"Paula\"\n",
        "apellido = \"Avendaño\"\n",
        "edad = 14\n",
        "estatura = 1.50 \n",
        "print(nombre + \"\\n \" +apellido, \"\\n\", edad, \"\\n\", estatura)"
      ],
      "metadata": {
        "colab": {
          "base_uri": "https://localhost:8080/"
        },
        "id": "fhbdGgtphdgi",
        "outputId": "28ff8768-efd0-4937-c471-9d8bd36781b4"
      },
      "execution_count": null,
      "outputs": [
        {
          "output_type": "stream",
          "name": "stdout",
          "text": [
            "Paula\n",
            " Avendaño \n",
            " 14 \n",
            " 1.5\n"
          ]
        }
      ]
    },
    {
      "cell_type": "markdown",
      "source": [
        "# COMENTARIOS se realizan anteponiendo el signo numeral y se utilizan para dos cosas\n",
        "\n"
      ],
      "metadata": {
        "id": "GWfthj04rRvC"
      }
    },
    {
      "cell_type": "markdown",
      "source": [
        "1. Documentar: Para hacer documentos del codigo\n",
        "2. Puebas: Para hacer pruebas del codigo"
      ],
      "metadata": {
        "id": "jVRbPGyVvttf"
      }
    },
    {
      "cell_type": "code",
      "source": [
        "# variable que captura el telefono de una persona\n",
        "#telefono = 3114105439\n",
        "# variable nombre de persona\n",
        "nombre = \"Angie Avendaño\"\n",
        "# visualiza por pantalla el valor de la variable telefono\n",
        "#print(telefono)\n",
        "# visualiza el valor de nombre\n",
        "print(nombre)"
      ],
      "metadata": {
        "colab": {
          "base_uri": "https://localhost:8080/"
        },
        "id": "tCdsuHqCrWFN",
        "outputId": "126fbfb6-ba41-4e32-d30b-ed614c051c42"
      },
      "execution_count": null,
      "outputs": [
        {
          "output_type": "stream",
          "name": "stdout",
          "text": [
            "Angie Avendaño\n"
          ]
        }
      ]
    },
    {
      "cell_type": "code",
      "source": [
        "nombre_P = input(\"Digite su Nombre: \")\n",
        "print(nombre_P)"
      ],
      "metadata": {
        "colab": {
          "base_uri": "https://localhost:8080/"
        },
        "id": "d8mt_epj0sE2",
        "outputId": "06ae408d-b4e1-427f-e825-b80f5e0a7c89"
      },
      "execution_count": null,
      "outputs": [
        {
          "output_type": "stream",
          "name": "stdout",
          "text": [
            "Digite su Nombre: Alejandro Diaz\n",
            "Alejandro Diaz\n"
          ]
        }
      ]
    }
  ]
}