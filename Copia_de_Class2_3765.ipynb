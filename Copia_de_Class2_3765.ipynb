{
  "nbformat": 4,
  "nbformat_minor": 0,
  "metadata": {
    "colab": {
      "provenance": []
    },
    "kernelspec": {
      "name": "python3",
      "display_name": "Python 3"
    },
    "language_info": {
      "name": "python"
    }
  },
  "cells": [
    {
      "cell_type": "markdown",
      "source": [
        "#**OPERADORES MATEMÁTICOS EN PTYHON**"
      ],
      "metadata": {
        "id": "VAItE9I5qUDk"
      }
    },
    {
      "cell_type": "code",
      "execution_count": null,
      "metadata": {
        "colab": {
          "base_uri": "https://localhost:8080/"
        },
        "id": "idlwx7WZqJRF",
        "outputId": "c9755abb-6f49-4e52-e363-c445764403b4"
      },
      "outputs": [
        {
          "output_type": "stream",
          "name": "stdout",
          "text": [
            "7\n"
          ]
        }
      ],
      "source": [
        "num1 = 4\n",
        "num2 = 3\n",
        "res = num1 + num2\n",
        "print(res)"
      ]
    },
    {
      "cell_type": "code",
      "source": [
        "# Default Input() = str\n",
        "num1 = int(input(\"Digite el número 1: \"))\n",
        "num2 = int(input(\"Digite el número 2: \"))\n",
        "res = num1 + num2\n",
        "print(\"La suma de {} y {} es = {}\".format(num1, num2, res ))\n",
        "print(f\"La suma de {num1} y {num2} es = {res}\")"
      ],
      "metadata": {
        "colab": {
          "base_uri": "https://localhost:8080/"
        },
        "id": "1Hm4i_zDwubZ",
        "outputId": "2a09a7cf-2da5-4124-9397-e4185db5bea4"
      },
      "execution_count": null,
      "outputs": [
        {
          "output_type": "stream",
          "name": "stdout",
          "text": [
            "Digite el número 1: 50\n",
            "Digite el número 2: 2\n",
            "La suma de 50 y 2 es = 52\n",
            "La suma de 50 y 2 es = 52\n"
          ]
        }
      ]
    },
    {
      "cell_type": "code",
      "source": [
        "try:\n",
        "  num = input(\"Digite el número: \")\n",
        "  num  =int(num)\n",
        "except ValueError:\n",
        "  print(\"No es valido el Intero!!\")"
      ],
      "metadata": {
        "colab": {
          "base_uri": "https://localhost:8080/"
        },
        "id": "F3GT3s_CzgCU",
        "outputId": "47560a9c-4452-41e9-b44e-0c9077a7193b"
      },
      "execution_count": null,
      "outputs": [
        {
          "output_type": "stream",
          "name": "stdout",
          "text": [
            "Digite el número: diana\n",
            "No es valido el Intero!!\n"
          ]
        }
      ]
    },
    {
      "cell_type": "code",
      "source": [
        "num = input(\"Digite el número: \")\n",
        "num  =int(num)"
      ],
      "metadata": {
        "colab": {
          "base_uri": "https://localhost:8080/"
        },
        "id": "Vnca_jBI0GZG",
        "outputId": "6b46c17b-0b40-4211-84ef-2e9f2153abf2"
      },
      "execution_count": null,
      "outputs": [
        {
          "name": "stdout",
          "output_type": "stream",
          "text": [
            "Digite el número: 0\n"
          ]
        }
      ]
    },
    {
      "cell_type": "markdown",
      "source": [
        "**CALCULADORA** + - * /"
      ],
      "metadata": {
        "id": "tIEkJ24y0WA3"
      }
    },
    {
      "cell_type": "code",
      "source": [
        "num1 = int(input(\"Digite el número 1: \"))\n",
        "num2 = int(input(\"Digite el número 2: \"))\n",
        "\n",
        "suma = num1 + num2\n",
        "resta = num1 - num2\n",
        "multi = num1 * num2\n",
        "divi = num1 / num2\n",
        "\n",
        "print(\"\\nEl reultado de la SUMA es= {}\".format(suma))\n",
        "print(\"\\nEl reultado de la RESTA es= {}\".format(resta))\n",
        "print(f\"\\nEl resultado de la MULTIPLICACIÓN es= {multi}\")\n",
        "print(f\"\\nEl resultado de la DIVISIÓN es= {divi}\")"
      ],
      "metadata": {
        "colab": {
          "base_uri": "https://localhost:8080/"
        },
        "id": "_61iFsw70non",
        "outputId": "e658f706-0f2c-4c56-ecdc-358638b5e7d5"
      },
      "execution_count": null,
      "outputs": [
        {
          "output_type": "stream",
          "name": "stdout",
          "text": [
            "Digite el número 1: 10\n",
            "Digite el número 2: 5\n",
            "\n",
            "El reultado de la SUMA es= 15\n",
            "\n",
            "El reultado de la RESTA es= 5\n",
            "\n",
            "El resultado de la MULTIPLICACIÓN es= 50\n",
            "\n",
            "El resultado de la DIVISIÓN es= 2.0\n"
          ]
        }
      ]
    },
    {
      "cell_type": "markdown",
      "source": [
        "Se recibe una venta por concepto de un prodcuto se requiere aplicar el IVA (19%) y conocer el total a pagar con el IVA Incluido"
      ],
      "metadata": {
        "id": "IaalAn5M1hDL"
      }
    },
    {
      "cell_type": "code",
      "source": [
        "# variable que captura la venta\n",
        "venta = float(input(\"¿Cuánto fue el total de la compra?: \"))\n",
        "iva = venta * 0.19\n",
        "total = venta + iva\n",
        "print(\"El IVA es = ${:,.0f} y el total a pagar esl = ${:,.0f}\".format(iva, total))\n",
        "print(f\"El IVA es = ${iva:,.0f} y el total a pagar esl = ${total:,.0f}\")"
      ],
      "metadata": {
        "colab": {
          "base_uri": "https://localhost:8080/"
        },
        "id": "zhzlSv7y1hwN",
        "outputId": "29c63f3e-47be-4707-dbe4-82de17896ab9"
      },
      "execution_count": null,
      "outputs": [
        {
          "output_type": "stream",
          "name": "stdout",
          "text": [
            "¿Cuánto fue el total de la compra?: 850000\n",
            "El IVA es = $161,500 y el total a pagar esl = $1,011,500\n",
            "El IVA es = $161,500 y el total a pagar esl = $1,011,500\n"
          ]
        }
      ]
    },
    {
      "cell_type": "markdown",
      "source": [
        "Se necesita un sistema que reciba tres calificaciones parciales de un alumno y en base a estas darle su promedio\n"
      ],
      "metadata": {
        "id": "-YwXtmAD4HX-"
      }
    },
    {
      "cell_type": "code",
      "source": [
        "cal1 = float(input(\"Digite la calificacion 1: \"))\n",
        "cal2 = float(input(\"Digite la calificacion 2: \"))\n",
        "cal3 = float(input(\"Digite la calificacion 3: \"))\n",
        "\n",
        "prom = round((cal1 + cal2 + cal3)/3, 2)\n",
        "\n",
        "print(f\"El promedio es= {prom}\")"
      ],
      "metadata": {
        "id": "7StLtNZoUa44",
        "outputId": "4940102d-9283-4897-d3ae-9738766ca36b",
        "colab": {
          "base_uri": "https://localhost:8080/"
        }
      },
      "execution_count": null,
      "outputs": [
        {
          "output_type": "stream",
          "name": "stdout",
          "text": [
            "Digite la calificacion 1: 5.4\n",
            "Digite la calificacion 2: 3.5\n",
            "Digite la calificacion 3: 3.7\n",
            "El promedio es= 4.2\n"
          ]
        }
      ]
    }
  ]
}