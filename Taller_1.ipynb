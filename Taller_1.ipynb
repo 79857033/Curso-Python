{
  "nbformat": 4,
  "nbformat_minor": 0,
  "metadata": {
    "colab": {
      "provenance": []
    },
    "kernelspec": {
      "name": "python3",
      "display_name": "Python 3"
    },
    "language_info": {
      "name": "python"
    }
  },
  "cells": [
    {
      "cell_type": "markdown",
      "source": [
        "# #Taller 1\n",
        "\n",
        "## No de Identificación, Nombres, Apellidos, Dirección, Teléfono, Edad, Estado Civil, Número de hijos, Estatura en centímetros, fecha de contratación (Día/mes/año), Sueldo básico, Días Laborados."
      ],
      "metadata": {
        "id": "F8xKkn7PCTHl"
      }
    },
    {
      "cell_type": "code",
      "source": [
        "# llenar base de datos anualmente de los trabajadores de la empresa\n",
        "print(\"Por favor llenar el siguiente formulario: \")\n",
        "nIdentificacion = input(\"Digite su numero de Identificacion: \")\n",
        "Nombres = input(\"Digite sus Nombres: \")\n",
        "Apellidos = input(\"Digite sus Apellidos: \")\n",
        "Fecha_de_nacimiento = input(\"Digite su Fecha de nacimiento (Dia),(Mes),(Año): \")\n",
        "Direccion = input(\"Digite su Direcion de residencia:\")\n",
        "Telefono = input(\"Digite su Numero Telefonico\") \n",
        "Estado_civil = input(\"Digite su Estado civil: \")\n",
        "nHijos = input(\"digite el numero de hijos: \")\n",
        "Estatura =input(\"Digite su Estatura: \")\n",
        "Fecha_de_contratacion = input(\"Digite su Fecha de contratacion (Dia),(Mes,(Año), : \")\n",
        "Sueldo = input(\"Digite su Sueldo: \")\n",
        "Dias_laborados = input(\"Digite sus Dias laborados: \")\n",
        "print,(nIdentificacion) +\"\\n\" +(Nombres) +\"\\n\"+(Apellidos) ,\"\\n\", (Fecha_de_nacimiento) ,\"\\n\", (Direccion) ,\"\\n\", (Telefono) +\"\\n\"+ (Estado_civil) ,\"\\n\", (nHijos) ,\"\\n\", (Estatura) ,\"\\n\", (Fecha_de_contratacion),\"\\n\", (Sueldo), \"\\n\", (Dias_laborados)"
      ],
      "metadata": {
        "colab": {
          "base_uri": "https://localhost:8080/"
        },
        "id": "I_T1GmN8GMDA",
        "outputId": "6082df49-e4f5-4d77-f422-a48f129857ff"
      },
      "execution_count": 2,
      "outputs": [
        {
          "name": "stdout",
          "output_type": "stream",
          "text": [
            "Por favor llenar el siguiente formulario: \n",
            "Digite su numero de Identificacion: 78574653\n",
            "Digite sus Nombres: Juan David\n",
            "Digite sus Apellidos: Diaz Duarte\n",
            "Digite su Fecha de nacimiento (Dia),(Mes),(Año): 12/02/86\n",
            "Digite su Direcion de residencia:calle24·3-35\n",
            "Digite su Numero Telefonico345675890\n",
            "Digite su Estado civil: Soltero\n",
            "digite el numero de hijos: 2\n",
            "Digite su Estatura: 1.65\n",
            "Digite su Fecha de contratacion (Dia),(Mes,(Año), : 05/03/96\n",
            "Digite su Sueldo: 1000000\n",
            "Digite sus Dias laborados: 26\n"
          ]
        },
        {
          "output_type": "execute_result",
          "data": {
            "text/plain": [
              "(<function print>,\n",
              " '78574653\\nJuan David\\nDiaz Duarte',\n",
              " '\\n',\n",
              " '12/02/86',\n",
              " '\\n',\n",
              " 'calle24·3-35',\n",
              " '\\n',\n",
              " '345675890\\nSoltero',\n",
              " '\\n',\n",
              " '2',\n",
              " '\\n',\n",
              " '1.65',\n",
              " '\\n',\n",
              " '05/03/96',\n",
              " '\\n',\n",
              " '1000000',\n",
              " '\\n',\n",
              " '26')"
            ]
          },
          "metadata": {},
          "execution_count": 2
        }
      ]
    }
  ]
}